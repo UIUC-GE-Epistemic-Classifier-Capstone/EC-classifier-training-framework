{
 "cells": [
  {
   "cell_type": "code",
   "execution_count": 10,
   "metadata": {},
   "outputs": [],
   "source": [
    "import pandas as pd\n",
    "import os\n",
    "import shutil\n",
    "\n",
    "# Assume your data is in a CSV file named 'dataset.csv'\n",
    "df = pd.read_csv('./train/_classes.csv')\n",
    "\n",
    "# Strip leading spaces from column names\n",
    "df.columns = [col.strip() for col in df.columns]\n",
    "\n",
    "# Filter rows where only 'car' or 'person' is present\n",
    "df_car = df[(df['bicycle'] == 0) & (df['car'] == 1) & (df['dog'] == 0) & (df['person'] == 0)]\n",
    "df_person = df[(df['bicycle'] == 0) & (df['car'] == 0) & (df['dog'] == 0) & (df['person'] == 1)]\n",
    "\n",
    "# Concatenate the two dataframes\n",
    "df_filtered = pd.concat([df_car, df_person])\n",
    "\n",
    "# Create a new directory 'filtered_data' to store the selected images and CSV\n",
    "os.makedirs('filtered_data', exist_ok=True)\n",
    "\n",
    "# Initialize an index counter for the new filenames\n",
    "index = 0\n",
    "\n",
    "# Assuming that your images are in a folder named 'images'\n",
    "# Copy the selected images to the new directory with new names\n",
    "for _, row in df_filtered.iterrows():\n",
    "    filename = row['filename']\n",
    "    # Create new filename with leading zeros\n",
    "    new_filename = f\"{index:04d}.jpeg\"\n",
    "    shutil.copy(os.path.join('train', filename), os.path.join('filtered_data', new_filename))\n",
    "    # Update filename in the dataframe\n",
    "    df_filtered.loc[df_filtered['filename'] == filename, 'filename'] = new_filename\n",
    "    # Increment the index counter\n",
    "    index += 1\n",
    "\n",
    "# Write this dataframe to a new CSV file in 'filtered_data'\n",
    "df_filtered.to_csv(os.path.join('filtered_data', 'filtered_dataset.csv'), index=False)\n"
   ]
  },
  {
   "cell_type": "code",
   "execution_count": 11,
   "metadata": {},
   "outputs": [],
   "source": [
    "# Create an empty list to store the labels\n",
    "labels = []\n",
    "\n",
    "# Iterate over the filtered dataframe\n",
    "for _, row in df_filtered.iterrows():\n",
    "    if row['car'] == 1:\n",
    "        labels.append(0)  # If car, append 0\n",
    "    else:\n",
    "        labels.append(1)  # If person, append 1\n",
    "\n",
    "# Create a new dataframe from the labels list\n",
    "df_labels = pd.DataFrame(labels, columns=['label'])\n",
    "\n",
    "# Write this dataframe to a new CSV file in 'filtered_data'\n",
    "df_labels.to_csv(os.path.join('filtered_data', 'labels.csv'), index=False, header=False)\n"
   ]
  }
 ],
 "metadata": {
  "kernelspec": {
   "display_name": "base",
   "language": "python",
   "name": "python3"
  },
  "language_info": {
   "codemirror_mode": {
    "name": "ipython",
    "version": 3
   },
   "file_extension": ".py",
   "mimetype": "text/x-python",
   "name": "python",
   "nbconvert_exporter": "python",
   "pygments_lexer": "ipython3",
   "version": "3.10.9"
  },
  "orig_nbformat": 4
 },
 "nbformat": 4,
 "nbformat_minor": 2
}
